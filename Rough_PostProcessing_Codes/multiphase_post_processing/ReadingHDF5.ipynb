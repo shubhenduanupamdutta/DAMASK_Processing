{
 "cells": [
  {
   "cell_type": "code",
   "execution_count": 1,
   "id": "4fbff56b",
   "metadata": {},
   "outputs": [],
   "source": [
    "import h5py"
   ]
  },
  {
   "cell_type": "code",
   "execution_count": 16,
   "id": "165ad3ef",
   "metadata": {},
   "outputs": [
    {
     "data": {
      "text/plain": [
       "array([[(b'Ti',     0)],\n",
       "       [(b'Ti',     1)],\n",
       "       [(b'Ti',     2)],\n",
       "       ...,\n",
       "       [(b'Ti', 12234)],\n",
       "       [(b'Ti', 12235)],\n",
       "       [(b'Ti', 12236)]], dtype=[('label', 'S4'), ('entry', '<i8')])"
      ]
     },
     "execution_count": 16,
     "metadata": {},
     "output_type": "execute_result"
    }
   ],
   "source": [
    "with h5py.File(\"dwell_tensionX.hdf5\", \"r\") as file:\n",
    "    keys = list(file.keys())\n",
    "    cell = file['cell_to']['phase']\n",
    "    position_data = cell[()]\n",
    "    \n",
    "position_data"
   ]
  },
  {
   "cell_type": "code",
   "execution_count": 19,
   "id": "cc9c2b4f",
   "metadata": {},
   "outputs": [],
   "source": [
    "label_and_position = [[str(data[0][0])[2:-1], int(data[0][1])]for data in position_data]"
   ]
  },
  {
   "cell_type": "code",
   "execution_count": 21,
   "id": "36b34d02",
   "metadata": {},
   "outputs": [
    {
     "name": "stdout",
     "output_type": "stream",
     "text": [
      "12240\n"
     ]
    }
   ],
   "source": [
    "label_and_position\n",
    "print(len(label_and_position))"
   ]
  },
  {
   "cell_type": "code",
   "execution_count": 22,
   "id": "2c2813f5",
   "metadata": {},
   "outputs": [
    {
     "data": {
      "text/plain": [
       "[['beta', 0], ['beta', 1], ['beta', 2]]"
      ]
     },
     "execution_count": 22,
     "metadata": {},
     "output_type": "execute_result"
    }
   ],
   "source": [
    "beta_values = [data for data in label_and_position if data[0] == 'beta']\n",
    "beta_values"
   ]
  },
  {
   "cell_type": "code",
   "execution_count": 23,
   "id": "a9a1822d",
   "metadata": {},
   "outputs": [
    {
     "data": {
      "text/plain": [
       "[['Ti', 0], ['beta', 0]]"
      ]
     },
     "execution_count": 23,
     "metadata": {},
     "output_type": "execute_result"
    }
   ],
   "source": [
    "position_values = [data for data in label_and_position if data[1] == 0]\n",
    "position_values"
   ]
  },
  {
   "cell_type": "code",
   "execution_count": 27,
   "id": "d9e2ad18",
   "metadata": {},
   "outputs": [
    {
     "data": {
      "text/html": [
       "<div>\n",
       "<style scoped>\n",
       "    .dataframe tbody tr th:only-of-type {\n",
       "        vertical-align: middle;\n",
       "    }\n",
       "\n",
       "    .dataframe tbody tr th {\n",
       "        vertical-align: top;\n",
       "    }\n",
       "\n",
       "    .dataframe thead th {\n",
       "        text-align: right;\n",
       "    }\n",
       "</style>\n",
       "<table border=\"1\" class=\"dataframe\">\n",
       "  <thead>\n",
       "    <tr style=\"text-align: right;\">\n",
       "      <th></th>\n",
       "      <th>abs_position</th>\n",
       "      <th>phase</th>\n",
       "      <th>position</th>\n",
       "    </tr>\n",
       "  </thead>\n",
       "  <tbody>\n",
       "    <tr>\n",
       "      <th>0</th>\n",
       "      <td>0</td>\n",
       "      <td>Ti</td>\n",
       "      <td>0</td>\n",
       "    </tr>\n",
       "    <tr>\n",
       "      <th>1</th>\n",
       "      <td>1</td>\n",
       "      <td>Ti</td>\n",
       "      <td>1</td>\n",
       "    </tr>\n",
       "    <tr>\n",
       "      <th>2</th>\n",
       "      <td>2</td>\n",
       "      <td>Ti</td>\n",
       "      <td>2</td>\n",
       "    </tr>\n",
       "    <tr>\n",
       "      <th>3</th>\n",
       "      <td>3</td>\n",
       "      <td>Ti</td>\n",
       "      <td>3</td>\n",
       "    </tr>\n",
       "    <tr>\n",
       "      <th>4</th>\n",
       "      <td>4</td>\n",
       "      <td>Ti</td>\n",
       "      <td>4</td>\n",
       "    </tr>\n",
       "    <tr>\n",
       "      <th>...</th>\n",
       "      <td>...</td>\n",
       "      <td>...</td>\n",
       "      <td>...</td>\n",
       "    </tr>\n",
       "    <tr>\n",
       "      <th>12235</th>\n",
       "      <td>12235</td>\n",
       "      <td>Ti</td>\n",
       "      <td>12232</td>\n",
       "    </tr>\n",
       "    <tr>\n",
       "      <th>12236</th>\n",
       "      <td>12236</td>\n",
       "      <td>Ti</td>\n",
       "      <td>12233</td>\n",
       "    </tr>\n",
       "    <tr>\n",
       "      <th>12237</th>\n",
       "      <td>12237</td>\n",
       "      <td>Ti</td>\n",
       "      <td>12234</td>\n",
       "    </tr>\n",
       "    <tr>\n",
       "      <th>12238</th>\n",
       "      <td>12238</td>\n",
       "      <td>Ti</td>\n",
       "      <td>12235</td>\n",
       "    </tr>\n",
       "    <tr>\n",
       "      <th>12239</th>\n",
       "      <td>12239</td>\n",
       "      <td>Ti</td>\n",
       "      <td>12236</td>\n",
       "    </tr>\n",
       "  </tbody>\n",
       "</table>\n",
       "<p>12240 rows × 3 columns</p>\n",
       "</div>"
      ],
      "text/plain": [
       "       abs_position phase  position\n",
       "0                 0    Ti         0\n",
       "1                 1    Ti         1\n",
       "2                 2    Ti         2\n",
       "3                 3    Ti         3\n",
       "4                 4    Ti         4\n",
       "...             ...   ...       ...\n",
       "12235         12235    Ti     12232\n",
       "12236         12236    Ti     12233\n",
       "12237         12237    Ti     12234\n",
       "12238         12238    Ti     12235\n",
       "12239         12239    Ti     12236\n",
       "\n",
       "[12240 rows x 3 columns]"
      ]
     },
     "execution_count": 27,
     "metadata": {},
     "output_type": "execute_result"
    }
   ],
   "source": [
    "import pandas as pd\n",
    "df = pd.DataFrame({\n",
    "    \"abs_position\": [i for i in range(len(label_and_position))],\n",
    "    \"phase\": [data[0] for data in label_and_position],\n",
    "    \"position\": [data[1] for data in label_and_position],\n",
    "})\n",
    "df"
   ]
  },
  {
   "cell_type": "code",
   "execution_count": 30,
   "id": "728e2e26",
   "metadata": {},
   "outputs": [
    {
     "data": {
      "text/html": [
       "<div>\n",
       "<style scoped>\n",
       "    .dataframe tbody tr th:only-of-type {\n",
       "        vertical-align: middle;\n",
       "    }\n",
       "\n",
       "    .dataframe tbody tr th {\n",
       "        vertical-align: top;\n",
       "    }\n",
       "\n",
       "    .dataframe thead th {\n",
       "        text-align: right;\n",
       "    }\n",
       "</style>\n",
       "<table border=\"1\" class=\"dataframe\">\n",
       "  <thead>\n",
       "    <tr style=\"text-align: right;\">\n",
       "      <th></th>\n",
       "      <th>abs_position</th>\n",
       "      <th>phase</th>\n",
       "      <th>position</th>\n",
       "    </tr>\n",
       "  </thead>\n",
       "  <tbody>\n",
       "    <tr>\n",
       "      <th>1781</th>\n",
       "      <td>1781</td>\n",
       "      <td>beta</td>\n",
       "      <td>0</td>\n",
       "    </tr>\n",
       "    <tr>\n",
       "      <th>11282</th>\n",
       "      <td>11282</td>\n",
       "      <td>beta</td>\n",
       "      <td>1</td>\n",
       "    </tr>\n",
       "    <tr>\n",
       "      <th>11818</th>\n",
       "      <td>11818</td>\n",
       "      <td>beta</td>\n",
       "      <td>2</td>\n",
       "    </tr>\n",
       "  </tbody>\n",
       "</table>\n",
       "</div>"
      ],
      "text/plain": [
       "       abs_position phase  position\n",
       "1781           1781  beta         0\n",
       "11282         11282  beta         1\n",
       "11818         11818  beta         2"
      ]
     },
     "execution_count": 30,
     "metadata": {},
     "output_type": "execute_result"
    }
   ],
   "source": [
    "df.query(\"phase == 'beta'\")"
   ]
  },
  {
   "cell_type": "code",
   "execution_count": null,
   "id": "3065c4e9",
   "metadata": {},
   "outputs": [],
   "source": []
  }
 ],
 "metadata": {
  "kernelspec": {
   "display_name": "Python 3 (ipykernel)",
   "language": "python",
   "name": "python3"
  },
  "language_info": {
   "codemirror_mode": {
    "name": "ipython",
    "version": 3
   },
   "file_extension": ".py",
   "mimetype": "text/x-python",
   "name": "python",
   "nbconvert_exporter": "python",
   "pygments_lexer": "ipython3",
   "version": "3.10.6"
  }
 },
 "nbformat": 4,
 "nbformat_minor": 5
}
