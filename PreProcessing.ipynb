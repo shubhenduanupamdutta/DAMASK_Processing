{
 "cells": [
  {
   "cell_type": "markdown",
   "id": "541e393a",
   "metadata": {},
   "source": [
    "<img src=\"DAMASK_banner.png\">"
   ]
  },
  {
   "cell_type": "markdown",
   "id": "32ab324d",
   "metadata": {},
   "source": [
    "# <font color=blue> Importing Necessary Modules </font>"
   ]
  },
  {
   "cell_type": "code",
   "execution_count": null,
   "id": "961e7391",
   "metadata": {},
   "outputs": [],
   "source": [
    "import numpy as np\n",
    "import damask\n",
    "from damask import ConfigMaterial as cm"
   ]
  },
  {
   "cell_type": "markdown",
   "id": "fb5a26ba",
   "metadata": {},
   "source": [
    "***\n",
    "<br><br>\n",
    "# <center><font color=blue> **SECTION - 01:** Cleaning .ang files </font><center>\n",
    "\n",
    "- ### <font color=blue>That is changing values outside the range of [0, 2π] to be inside</font>\n",
    "- ### <font color=scarlet> Assumes that euler angles in the ang file are in radians. </font>\n",
    "\n",
    "<font color=red>NOTE: This needs to be done, because .ang files as created may contain some values greater than [0, 2π], which while will be processed by DREAM3D, but during creation of material file, damask will raise error.</font>"
   ]
  },
  {
   "cell_type": "code",
   "execution_count": null,
   "id": "fa037973",
   "metadata": {},
   "outputs": [],
   "source": [
    "GENERATED_ANG_FILE: str = \"YOUR_CREATED_ANG_FILE_FILEPATH\"\n",
    "# Obtained ang file path and filename, from tsl or ebsd or elsewhere\n",
    "\n",
    "CLEANED_ANG_FILE: str = \"YOUR_OUTPUT_FILE_FILEPATH\"\n",
    "# What you want cleaned ang files name to be and where you need it placed\n",
    "HEADER_LINES: int = \"HEADER_LINES_IN_ANG_FILE\"\n",
    "# Lines starting with # (i.e. before data of ebsd starts)"
   ]
  },
  {
   "cell_type": "markdown",
   "id": "11682c92",
   "metadata": {},
   "source": [
    "### <font color=grey>Creating few helper functions</font>"
   ]
  },
  {
   "cell_type": "code",
   "execution_count": null,
   "id": "e440925a",
   "metadata": {},
   "outputs": [],
   "source": [
    "def outside_range(euler_angle: str, range_min: float = 0, range_max: float = 2 * np.pi) -> bool:\n",
    "    \"\"\"Takes in euler angle value (as a string), outputs whether they are outside the accepted range of [0, 2pi],\n",
    "        Returns True if angle is outside the accepted range,\n",
    "        False otherwise.\"\"\"\n",
    "    angle_radians = float(euler_angle)\n",
    "    return not (range_min <= angle_radians < range_max)\n",
    "\n",
    "def convert_in_range(euler_angle: str, range_min: float = 0, range_max: float = 2 * np.pi) -> str:\n",
    "    \"\"\"Takes in euler angle (as a string), outputs a value by subtracting or adding 2pi values a i in range value.\"\"\"\n",
    "    while outside_range(euler_angle, range_min, range_max):\n",
    "        angle_radians = float(euler_angle)\n",
    "        if float(euler_angle) < range_min:\n",
    "            euler_angle = f\"{angle_radians + range_max:.5f}\"\n",
    "        else:\n",
    "            euler_angle = f\"{angle_radians - range_max:.5f}\"\n",
    "    return euler_angle"
   ]
  },
  {
   "cell_type": "markdown",
   "id": "ba464a56",
   "metadata": {},
   "source": [
    "### <font color=red>Taking in data from GENERATE_ANG_FILE and cleaning it </font>"
   ]
  },
  {
   "cell_type": "code",
   "execution_count": null,
   "id": "848de243",
   "metadata": {},
   "outputs": [],
   "source": [
    "header = []\n",
    "data_lines = []\n",
    "with open(GENERATED_ANG_FILE, \"r\") as file_read:\n",
    "    all_data_lines = file_read.readlines()\n",
    "    for header_lines in all_data_lines[:HEADER_LINES]:\n",
    "        # Taking in all header lines in the header list.\n",
    "        header.append(header_lines)\n",
    "        \n",
    "    for data_line in all_data_lines[HEADER_LINES:]:\n",
    "        # Going through all data_line, first convert data_line in a list\n",
    "        data_line = data_line.split()\n",
    "        data_line[0] = convert_in_range(data_line[0])\n",
    "        data_line[1] = convert_in_range(data_line[1], 0, np.pi)\n",
    "        data_line[2] = convert_in_range(data_line[2])\n",
    "        data_lines.append(data_line)"
   ]
  },
  {
   "cell_type": "markdown",
   "id": "526fe493",
   "metadata": {},
   "source": [
    "### <font color=green>Exporting clean data as CLEANED_ANG_FILE</font>"
   ]
  },
  {
   "cell_type": "code",
   "execution_count": null,
   "id": "e5477087",
   "metadata": {},
   "outputs": [],
   "source": [
    "# Exporting data \n",
    "with open(CLEANED_ANG_FILE, \"w\") as file_write:\n",
    "    for header_line in header:\n",
    "        file_write.write(header_line)\n",
    "    for datas in data_lines:\n",
    "        line = \"\"\n",
    "        for data in datas:\n",
    "            line += data\n",
    "            line += \"\\t\"\n",
    "        file_write.write(line + \"\\n\")"
   ]
  },
  {
   "cell_type": "markdown",
   "id": "821c5aad",
   "metadata": {},
   "source": [
    "## <font color=blue>Converting CLEANED_ANG_FILE to dream3d file</font>"
   ]
  },
  {
   "cell_type": "markdown",
   "id": "457e0df8",
   "metadata": {},
   "source": [
    "### To convert .ang type files to dream3d file, you can use following DREAM3D pipeline\n",
    "- #### <a href=\"DREAM3D_Pipelines/AngTodream3d.json\">Pipeline to convert .ang file to dream3d file<a> <br>\n",
    "    This is placed in DREAM3D_Pipelines folder with filename, \"AngTodream3d.json\""
   ]
  },
  {
   "cell_type": "markdown",
   "id": "1adfd8b4",
   "metadata": {},
   "source": [
    "### <font color=red> Sometime DREAM3D may throw following error when using above pipeline</font>\n",
    "#### &emsp; &emsp;<font color=red>import EDAX EBSD data(.ang) </font> &emsp; &emsp; END of ang file reached before all data was parsed.\n",
    "### <font color=green> Solution: <br> &emsp; &emsp; In this case Go to NROWS line of the header, and decrease the count by 1, that should resolve the issue.</font>"
   ]
  },
  {
   "cell_type": "markdown",
   "id": "c1977ecf",
   "metadata": {},
   "source": [
    "# <font color=blue>SECTION - 01_2 : Converting ctf files to dream3d files</font>"
   ]
  },
  {
   "cell_type": "markdown",
   "id": "55886bcc",
   "metadata": {},
   "source": [
    "### Converting to dream3d file is quite easy, cleaning and others are not required, the pipeline to use is:\n",
    "- #### <a href=\"DREAM3D_Pipelines/ctf_to_dream3d.json\">Pipeline to convert .ctf file to .dream3d file</a> <br>\n",
    "This is placed in DREAM3D_Pieplines folder with filename \"ctf_to_dream3d.json\""
   ]
  },
  {
   "cell_type": "markdown",
   "id": "e52c14af",
   "metadata": {},
   "source": [
    "***\n",
    "# <font color=scarlet><center>SECTION - 01 : END </center></font>\n",
    "***"
   ]
  },
  {
   "cell_type": "markdown",
   "id": "a82486f4",
   "metadata": {},
   "source": [
    "<br> <br> <br>\n",
    "\n",
    "# <font color=blue><center> SECTION-02: Generating material.yaml from dream3d file </center></font> <br>\n",
    "- ### <font color=blue>Creating a material.yaml file using dream3d file and available material data, (collected from literature or caluclated)</font>\n",
    "#### <font color=red>**NOTE**: material.yaml file contains material orientation and properties and a must for damask simulation"
   ]
  },
  {
   "cell_type": "markdown",
   "id": "5354563c",
   "metadata": {},
   "source": [
    "## <center><font color=purple> SECTION-02.1 Creating material file for single phase material </font><center>"
   ]
  },
  {
   "cell_type": "code",
   "execution_count": null,
   "id": "a8917cd6",
   "metadata": {},
   "outputs": [],
   "source": [
    "DREAM_3D_FILE: str = \"YOUR_DREAM3D_FILEPATH\"\n",
    "# Path to dream3d file created from methods mentioned above\n",
    "MATERIAL_CONTANTS_FILE: str = \"MATERIAL_CONSTANTS_FILENAME\"\n",
    "# yaml file where you have saved material data needed for simulation, examples in damask GitHub pages"
   ]
  },
  {
   "cell_type": "code",
   "execution_count": null,
   "id": "34cd7cea",
   "metadata": {},
   "outputs": [],
   "source": [
    "# creating a config_material object from dream 3d file\n",
    "config_material = cm.load_DREAM3D(DREAM_3D_FILE)\n",
    "\n",
    "# Defining homogenization as type pass, if you are using ebsd data from SEM it should be type pass only\n",
    "config_material['homogenization']['direct']['mechanical'] = {'type': 'pass'}"
   ]
  },
  {
   "cell_type": "markdown",
   "id": "f37cd4e0",
   "metadata": {},
   "source": [
    "<br>\n",
    "\n",
    "## <font color=grey><center> OPTIONAL PROCESSING - START </center></font>\n",
    "### Optional Processings, Following cells are not necessary, they are optional\n",
    "- #### Change phase name\n",
    "- #### [CLICK HERE](#singlephase_rename) to go to the cell to customize name changes"
   ]
  },
  {
   "cell_type": "code",
   "execution_count": null,
   "id": "ea9b129b",
   "metadata": {},
   "outputs": [],
   "source": [
    "# Looking through the config_material object for phase names\n",
    "config_material"
   ]
  },
  {
   "cell_type": "markdown",
   "id": "f295dfb3",
   "metadata": {},
   "source": [
    "<a id=\"singlephase_rename\"></a>\n",
    "### <font color=red><center> Change following cell to customize renaming of phase. </center></font>"
   ]
  },
  {
   "cell_type": "code",
   "execution_count": null,
   "id": "9c76ecdd",
   "metadata": {},
   "outputs": [],
   "source": [
    "OLD_PHASE_NAME: str = \"OLD_PHASE_NAME_IN_ConfigMaterial_OBJECT\"\n",
    "NEW_PHASE_NAME: str = \"WHAT_YOU_WANT_NEW_NAME_TO_BE\""
   ]
  },
  {
   "cell_type": "code",
   "execution_count": null,
   "id": "933bf74a",
   "metadata": {},
   "outputs": [],
   "source": [
    "# Deleting old phase in phase section\n",
    "del (config_material['phase'][OLD_PHASE_NAME])\n",
    "# Adding new phase in phase section\n",
    "config_material['phase'][NEW_PHASE_NAME] = None\n",
    "\n",
    "# Renaming phase in material section\n",
    "if isinstance(config_material['material'][0]['constituents'][0]['phase'], int):\n",
    "    config_material = config_material.material_rename_phase({int(OLD_PHASE_NAME): NEW_PHASE_NAME})\n",
    "else:\n",
    "    config_material = config_material.material_rename_phase({OLD_PHASE_NAME: NEW_PHASE_NAME})"
   ]
  },
  {
   "cell_type": "markdown",
   "id": "4f524dd2",
   "metadata": {},
   "source": [
    "\n",
    "## <font color=grey><center> OPTIONAL PROCESSING - END </center></font>\n",
    "<br>"
   ]
  },
  {
   "cell_type": "markdown",
   "id": "93338e8e",
   "metadata": {},
   "source": [
    "### <font color=cadetblue><center> **Adding Material Constants, elastic and plastic to ConfigMaterial Object** </center></font>"
   ]
  },
  {
   "cell_type": "code",
   "execution_count": null,
   "id": "64f28d1d",
   "metadata": {},
   "outputs": [],
   "source": [
    "phase_name = list(config_material['phase'].keys())[0]\n",
    "config_material['phase'][phase_name] = damask.ConfigMaterial.load(MATERIAL_CONTANTS_FILE)"
   ]
  },
  {
   "cell_type": "markdown",
   "id": "a02cc6f1",
   "metadata": {},
   "source": [
    "## <font color=cadetblue><center> Saving ConfigMaterial Object (Will be saved as <font color=red>_material.yaml_ </font>)</center></font>"
   ]
  },
  {
   "cell_type": "code",
   "execution_count": null,
   "id": "98b53c4a",
   "metadata": {},
   "outputs": [],
   "source": [
    "config_material.save()"
   ]
  },
  {
   "cell_type": "markdown",
   "id": "c8abed72",
   "metadata": {},
   "source": [
    "## <center><font color=purple> SECTION-02.1 - END </font></center>\n",
    "<hr>"
   ]
  },
  {
   "cell_type": "markdown",
   "id": "878fbcbc",
   "metadata": {},
   "source": [
    "<hr>\n",
    "\n",
    "# <font color=blue><center> SECTION-02: END </center></font>\n",
    "<hr>\n",
    "<br><br>"
   ]
  },
  {
   "cell_type": "markdown",
   "id": "84013901",
   "metadata": {},
   "source": [
    "<br> <br>\n",
    "\n",
    "# <font color=blue><center> SECTION-03: Generating grid file from .dream3d file </center></font>\n",
    "#### <font color=red> &emsp; **NOTE**: grid file is a must for DAMASK_simulation, in simple words it contains placement of voxels (data points) in x,y,z coordinates "
   ]
  },
  {
   "cell_type": "markdown",
   "id": "6eee82a8",
   "metadata": {},
   "source": [
    "## <font color=cadetblue> <center>Customize name of the grid file <center></font>\n",
    "- #### <font color=red> &emsp; &emsp; One of two names which will determine result file name.</font>\n",
    "- #### <font color=red> &emsp; &emsp; Extension of grid file must be .vti </font>"
   ]
  },
  {
   "cell_type": "code",
   "execution_count": null,
   "id": "a1b4da52",
   "metadata": {},
   "outputs": [],
   "source": [
    "OUTPUT_GRID_FILE: str = \"WHAT_YOU_WANT_GRID_FILENAME_TO_BE\"\n",
    "DREAM_3D_FILE: str = \"DREAM3D_FILE_USED_TO_CREATE_MATERIAL_FILE\""
   ]
  },
  {
   "cell_type": "code",
   "execution_count": null,
   "id": "0d45ca92",
   "metadata": {},
   "outputs": [],
   "source": [
    "grid_file = damask.Grid.load_DREAM3D(DREAM_3D_FILE)\n",
    "grid_file.save(OUTPUT_GRID_FILE)"
   ]
  },
  {
   "cell_type": "markdown",
   "id": "93004f66",
   "metadata": {},
   "source": [
    "***\n",
    "# <font color=blue><center> SECTION-03: END </center></font>\n",
    "***\n",
    "<br>\n",
    "<br>"
   ]
  },
  {
   "cell_type": "markdown",
   "id": "3df17029",
   "metadata": {},
   "source": [
    "<br> <br>\n",
    "\n",
    "# <font color=blue><center> SECTION-04: Creating Load File (damask.Config object) </center></font>\n",
    "\n",
    "## <font color=red><center> IMPORTANT NOTE: In the subsections only run general and your load case cells, leave others alone </center></font>\n",
    "#### <font color=red> &emsp; &emsp; **NOTE**: load file is a must for damask simulation, it provides load conditions/steps applied on the material"
   ]
  },
  {
   "cell_type": "markdown",
   "id": "81ce4ffd",
   "metadata": {},
   "source": [
    "#### <font color=red> Function Arguments Explanation </font>\n",
    "1. ##### <font color=red> t : </font> Time for that part of loadstep to happen, eg. \n",
    "    1. ###### if ramp up happens in one second than t = 1\n",
    "    2. ###### if elastic region is approximately 8 seconds then t = 8\n",
    "    \n",
    "2. ##### <font color=red> N : </font> Total discretization i.e. how much the time is divided into steps\n",
    "    1. ###### each second will be divided into N/t steps\n",
    "    2. ###### if N is large, steps are small, and if N is small steps are large (this may sometime lead to non-convergence)\n",
    "\n",
    "3. ##### <font color=red> f_out: </font> Frequency of output, not every timestep output is saved this decides after how many times steps output needs to be saved\n",
    "    1. ###### every f_out time_step output will be saved\n",
    "    2. ###### if f_out = 8, then every 8th output will be saved"
   ]
  },
  {
   "cell_type": "markdown",
   "id": "8672cb13",
   "metadata": {},
   "source": [
    "## <center><font color=purple> SECTION-04.1: Tensile Test Load File Creation </font></center>"
   ]
  },
  {
   "cell_type": "markdown",
   "id": "1c6062b5",
   "metadata": {},
   "source": [
    "### <font color=cadetblue> &emsp; &emsp; General Constants </font>"
   ]
  },
  {
   "cell_type": "code",
   "execution_count": null,
   "id": "2b9989e9",
   "metadata": {},
   "outputs": [],
   "source": [
    "SOLVER_NAME: str = \"spectral_basic\"\n",
    "# defines the solver used to solve equations\n",
    "\n",
    "LOADFILE_NAME: str = \"Tension_Y.yaml\"\n",
    "# Your output load file name"
   ]
  },
  {
   "cell_type": "markdown",
   "id": "62c244c4",
   "metadata": {},
   "source": [
    "### <font color=cadetblue> &emsp; &emsp; General Functions </font>"
   ]
  },
  {
   "cell_type": "code",
   "execution_count": null,
   "id": "d19fe0ea",
   "metadata": {},
   "outputs": [],
   "source": [
    "def inversion(l,fill=0):\n",
    "    return [inversion(i,fill) if isinstance(i,list) else\\\n",
    "            fill if i == 'x' else 'x' for i in l]\n",
    "\n",
    "load_case = damask.Config(solver={\"mechanical\": SOLVER_NAME}, loadstep=[])\n",
    "# Defining load case"
   ]
  },
  {
   "cell_type": "markdown",
   "id": "49139338",
   "metadata": {},
   "source": [
    "### <font color=cadetblue> &emsp; &emsp; Constants For Tensile Tests </font>"
   ]
  },
  {
   "cell_type": "code",
   "execution_count": null,
   "id": "9a3bc1b7",
   "metadata": {},
   "outputs": [],
   "source": [
    "# Elastic Part\n",
    "ELASTIC_TIME: float = 8.0\n",
    "# Approximate time for elastic part in experimental data\n",
    "ELASTIC_DISCRETIZATION: int = 160\n",
    "# How many timesteps to divide elastic time\n",
    "ELASTIC_OUTPUT_FREQUENCY: int = 8\n",
    "\n",
    "# Plastic Part\n",
    "PLASTIC_TIME: float = 54.0\n",
    "# Approximate time for rest of simulation (after elastic)\n",
    "PLASTIC_DISCRETIZATION: int = 540\n",
    "# How many timesteps to divide plastic time\n",
    "PLASTIC_OUTPUT_FREQUNCY: int = 8\n",
    "\n",
    "# Strain Rates in principal direction, put value in loading direction, 11: x direction, 22: y direction, 33: z direction\n",
    "# Keep the remaining as unknown i.e. x\n",
    "STRAIN_RATE_11: float = \"x\"\n",
    "STRAIN_RATE_22: float = 10 ** (-3)\n",
    "STRAIN_RATE_33: float = \"x\""
   ]
  },
  {
   "cell_type": "markdown",
   "id": "3ef5e9a7",
   "metadata": {},
   "source": [
    "### <font color=cadetblue> &emsp; &emsp; Functions for Tensile Tests </font>"
   ]
  },
  {
   "cell_type": "code",
   "execution_count": null,
   "id": "a983fb39",
   "metadata": {},
   "outputs": [],
   "source": [
    "def tensile_test(t: float = 60, N: int = 600, f_out: int = 8):\n",
    "    \n",
    "    dot_F = [[STRAIN_RATE_11, 0, 0],\n",
    "             [0, STRAIN_RATE_22, 0],\n",
    "             [0, 0, STRAIN_RATE_33]]\n",
    "    \n",
    "    P_11 = 0 if STRAIN_RATE_11 == \"x\" else \"x\"\n",
    "    P_22 = 0 if STRAIN_RATE_22 == \"x\" else \"x\"\n",
    "    P_33 = 0 if STRAIN_RATE_33 == \"x\" else \"x\"\n",
    "    \n",
    "    P = [[P_11, 'x', 'x'],\n",
    "         ['x', P_22, 'x'],\n",
    "         ['x', 'x', P_33]]\n",
    "    loadstep = {\"boundary_conditions\": {'mechanical': {'dot_F': dot_F,\n",
    "                                                       'P': P}},\n",
    "                                        'discretization': {'t': t, 'N': N}, 'f_out': f_out}\n",
    "    load_case[\"loadstep\"].append(loadstep)"
   ]
  },
  {
   "cell_type": "markdown",
   "id": "03e632a2",
   "metadata": {},
   "source": [
    "### <font color=cadetblue> &emsp; &emsp; Creating Full Loadstep and Writing File </font>"
   ]
  },
  {
   "cell_type": "code",
   "execution_count": null,
   "id": "a9797e0a",
   "metadata": {},
   "outputs": [],
   "source": [
    "# Creating load case\n",
    "tensile_test(ELASTIC_TIME, ELASTIC_DISCRETIZATION, ELASTIC_OUTPUT_FREQUENCY)\n",
    "tensile_test(PLASTIC_TIME, PLASTIC_DISCRETIZATION, PLASTIC_OUTPUT_FREQUNCY)\n",
    "\n",
    "# Saving Load File\n",
    "load_case.save(LOADFILE_NAME)"
   ]
  },
  {
   "cell_type": "markdown",
   "id": "3626a5f0",
   "metadata": {},
   "source": [
    "## <center><font color=purple> SECTION-04.2: Dwell Fatigue Load File Creation </font></center>"
   ]
  },
  {
   "cell_type": "markdown",
   "id": "607ecac1",
   "metadata": {},
   "source": [
    "### <font color=cadetblue> &emsp; &emsp; General Constants </font>"
   ]
  },
  {
   "cell_type": "code",
   "execution_count": null,
   "id": "6dbc8644",
   "metadata": {},
   "outputs": [],
   "source": [
    "SOLVER_NAME: str = \"spectral_basic\"\n",
    "# defines the solver used to solve equations\n",
    "\n",
    "LOADFILE_NAME: str = \"load_dwell_unload.yaml\"\n",
    "# Your output load file name"
   ]
  },
  {
   "cell_type": "markdown",
   "id": "2226fe20",
   "metadata": {},
   "source": [
    "### <font color=cadetblue> &emsp; &emsp; General Functions </font>"
   ]
  },
  {
   "cell_type": "code",
   "execution_count": null,
   "id": "743624f3",
   "metadata": {},
   "outputs": [],
   "source": [
    "def inversion(l,fill=0):\n",
    "    return [inversion(i,fill) if isinstance(i,list) else\\\n",
    "            fill if i == 'x' else 'x' for i in l]\n",
    "\n",
    "load_case = damask.Config(solver={\"mechanical\": SOLVER_NAME}, loadstep=[])\n",
    "# Defining load case"
   ]
  },
  {
   "cell_type": "markdown",
   "id": "9384d79b",
   "metadata": {},
   "source": [
    "### <font color=cadetblue> &emsp; &emsp; Constants for Dwell Fatigue Tests </font>"
   ]
  },
  {
   "cell_type": "code",
   "execution_count": null,
   "id": "43ef2b72",
   "metadata": {},
   "outputs": [],
   "source": [
    "YIELD_STRENGTH: float = 700 * (10 ** 6)\n",
    "# Yield strength of material in Pascal\n",
    "\n",
    "MAXIMUM_STRESS_to_YIELD_STRENGTH: float = 0.95\n",
    "# Ratio of maximum stress to yield strength: maximum_stress/Yield_strength\n",
    "\n",
    "R_RATIO: float = 0.1\n",
    "# Ratio of minimum stress to maximum stress: min_stress/max_stress\n",
    "\n",
    "DWELL_PERIOD: float = 120\n",
    "# Dwell period in seconds\n",
    "DWELL_DISCRETIZATION: int = 480\n",
    "DWELL_OUTPUT_FREQUENCY: int = 240\n",
    "\n",
    "RAMP_UP_TIME: float = 1.0\n",
    "RAMP_UP_DISCRETIZATION: int = 20\n",
    "RAMP_UP_OUTPUT_FREQUENCY: int = 10\n",
    "\n",
    "RAMP_DOWN_TIME: float = 1.0\n",
    "RAMP_DOWN_DISCRETIZATION: int = 20\n",
    "RAMP_DOWN_OUTPUT_FREQUENCY: int = 10\n",
    "    \n",
    "CYCLE_COUNT: int = 100\n",
    "\n",
    "# Principal loading direction (direction as in dream3d file, check in paraview with xdmf file.)\n",
    "STRESS_11: bool = True\n",
    "STRESS_22: bool = False\n",
    "STRESS_33: bool = False"
   ]
  },
  {
   "cell_type": "markdown",
   "id": "aa361138",
   "metadata": {},
   "source": [
    "### <font color=cadetblue> &emsp; &emsp; Functions for Dwell Tests </font>"
   ]
  },
  {
   "cell_type": "code",
   "execution_count": null,
   "id": "1d814c60",
   "metadata": {},
   "outputs": [],
   "source": [
    "def ramp_up(t: float = 1., N: int = 20, f_out: int = 10):\n",
    "    \"\"\"Ramp Up part of fatigue or dwell fatigue test. t: time to ramp up, N: total division of time,\n",
    "        f_out: frequency of output.\"\"\"\n",
    "    \n",
    "    stress_11 = MAXIMUM_STRESS_to_YIELD_STRENGTH * YIELD_STRENGTH if STRESS_11 else 0\n",
    "    stress_22 = MAXIMUM_STRESS_to_YIELD_STRENGTH * YIELD_STRENGTH if STRESS_22 else 0\n",
    "    stress_33 = MAXIMUM_STRESS_to_YIELD_STRENGTH * YIELD_STRENGTH if STRESS_33 else 0\n",
    "    \n",
    "    P = [[ stress_11, 'x' , 'x'],\n",
    "         [ 'x', stress_22 , 'x' ],\n",
    "         [ 'x', 'x' , stress_33 ]]\n",
    "\n",
    "    loadstep = {'boundary_conditions':{'mechanical':{'dot_F':inversion(P),\n",
    "                                                     'P':P}},\n",
    "                                       'discretization':{'t': t,'N': N},'f_out': f_out}\n",
    "    load_case['loadstep'].append(loadstep)\n",
    "    \n",
    "\n",
    "def dwell(t: float = 120., N: int = 480, f_out: int = 240):\n",
    "    \n",
    "    dot_P_11 = 0 if STRESS_11 else \"x\"\n",
    "    dot_P_22 = 0 if STRESS_22 else \"x\"\n",
    "    dot_P_33 = 0 if STRESS_33 else \"x\"\n",
    "    \n",
    "    dot_P = [[dot_P_11 ,'x','x'],\n",
    "             ['x', dot_P_22,'x'],\n",
    "             ['x','x', dot_P_33]]\n",
    "\n",
    "    loadstep = {'boundary_conditions':{'mechanical':{'dot_P':dot_P,\n",
    "                                                     'dot_F':inversion(dot_P)}},\n",
    "                                       'discretization':{'t': t,'N': N}, 'f_out': f_out}\n",
    "    load_case['loadstep'].append(loadstep)\n",
    "    \n",
    "\n",
    "def ramp_down(t: float = 1., N: int = 20, f_out: int = 10):\n",
    "    \n",
    "    stress_11 = R_RATIO * MAXIMUM_STRESS_to_YIELD_STRENGTH * YIELD_STRENGTH if STRESS_11 else 0\n",
    "    stress_22 = R_RATIO * MAXIMUM_STRESS_to_YIELD_STRENGTH * YIELD_STRENGTH if STRESS_22 else 0\n",
    "    stress_33 = R_RATIO * MAXIMUM_STRESS_to_YIELD_STRENGTH * YIELD_STRENGTH if STRESS_33 else 0\n",
    "    \n",
    "    P = [[ stress_11, 'x' , 'x'],\n",
    "         [ 'x', stress_22 , 'x' ],\n",
    "         [ 'x', 'x' , stress_33 ]]\n",
    "    loadstep = {'boundary_conditions':{'mechanical':{'P':P,\n",
    "                                                     'dot_F':inversion(P)}},\n",
    "                                       'discretization':{'t': t,'N': N}, 'f_out': f_out}\n",
    "    load_case['loadstep'].append(loadstep)"
   ]
  },
  {
   "cell_type": "markdown",
   "id": "8a673892",
   "metadata": {},
   "source": [
    "### <font color=cadetblue> &emsp; &emsp; Creating Full Loadstep and Writing File </font>"
   ]
  },
  {
   "cell_type": "code",
   "execution_count": null,
   "id": "b7c6f6ef",
   "metadata": {},
   "outputs": [],
   "source": [
    "# Creating load case\n",
    "for _ in range(CYCLE_COUNT):\n",
    "    ramp_up(RAMP_UP_TIME, RAMP_UP_DISCRETIZATION, RAMP_UP_OUTPUT_FREQUENCY)\n",
    "    dwell(DWELL_PERIOD, DWELL_DISCRETIZATION, DWELL_OUTPUT_FREQUENCY)\n",
    "    ramp_down(RAMP_DOWN_TIME, RAMP_DOWN_DISCRETIZATION, RAMP_DOWN_OUTPUT_FREQUENCY)\n",
    "\n",
    "# Saving Load file\n",
    "load_case.save(LOADFILE_NAME)"
   ]
  },
  {
   "cell_type": "markdown",
   "id": "c82d2d9e",
   "metadata": {},
   "source": [
    "## <center><font color=purple> SECTION-04.3: Normal Fatigue Load File Creation </font></center>"
   ]
  },
  {
   "cell_type": "markdown",
   "id": "647977a1",
   "metadata": {},
   "source": [
    "### <font color=cadetblue> &emsp; &emsp; General Constants </font>"
   ]
  },
  {
   "cell_type": "code",
   "execution_count": null,
   "id": "aa06be00",
   "metadata": {},
   "outputs": [],
   "source": [
    "SOLVER_NAME: str = \"spectral_basic\"\n",
    "# defines the solver used to solve equations\n",
    "\n",
    "LOADFILE_NAME: str = \"load_unload.yaml\"\n",
    "# Your output load file name"
   ]
  },
  {
   "cell_type": "markdown",
   "id": "74f20ab8",
   "metadata": {},
   "source": [
    "### <font color=cadetblue> &emsp; &emsp; General Functions </font>"
   ]
  },
  {
   "cell_type": "code",
   "execution_count": null,
   "id": "dcce612c",
   "metadata": {},
   "outputs": [],
   "source": [
    "def inversion(l,fill=0):\n",
    "    return [inversion(i,fill) if isinstance(i,list) else\\\n",
    "            fill if i == 'x' else 'x' for i in l]\n",
    "\n",
    "load_case = damask.Config(solver={\"mechanical\": SOLVER_NAME}, loadstep=[])\n",
    "# Defining load case"
   ]
  },
  {
   "cell_type": "markdown",
   "id": "a7694876",
   "metadata": {},
   "source": [
    "### <font color=cadetblue> &emsp; &emsp; Constants for Fatigue Tests </font>"
   ]
  },
  {
   "cell_type": "code",
   "execution_count": null,
   "id": "cd4c09f3",
   "metadata": {},
   "outputs": [],
   "source": [
    "YIELD_STRENGTH: float = 280 * (10 ** 6)\n",
    "# Yield strength of material in Pascal\n",
    "\n",
    "MAXIMUM_STRESS_to_YIELD_STRENGTH: float = 0.95\n",
    "# Ratio of maximum stress to yield strength: maximum_stress/Yield_strength\n",
    "\n",
    "R_RATIO: float = 0.1\n",
    "# Ratio of minimum stress to maximum stress: min_stress/max_stress\n",
    "\n",
    "RAMP_UP_TIME: float = 1.0\n",
    "RAMP_UP_DISCRETIZATION: int = 20\n",
    "RAMP_UP_OUTPUT_FREQUENCY: int = 10\n",
    "\n",
    "RAMP_DOWN_TIME: float = 1.0\n",
    "RAMP_DOWN_DISCRETIZATION: int = 20\n",
    "RAMP_DOWN_OUTPUT_FREQUENCY: int = 10\n",
    "\n",
    "CYCLE_COUNT: int = 100"
   ]
  },
  {
   "cell_type": "markdown",
   "id": "fb8a7295",
   "metadata": {},
   "source": [
    "### <font color=cadetblue> &emsp; &emsp; Functions for Normal Fatigue Tests </font>"
   ]
  },
  {
   "cell_type": "code",
   "execution_count": null,
   "id": "db996a7d",
   "metadata": {},
   "outputs": [],
   "source": [
    "def ramp_up(t: float = 1., N: int = 20, f_out: int = 10):\n",
    "    \"\"\"Ramp Up part of fatigue or dwell fatigue test. t: time to ramp up, N: total division of time,\n",
    "        f_out: frequency of output.\"\"\"\n",
    "    \n",
    "    stress_11 = MAXIMUM_STRESS_to_YIELD_STRENGTH * YIELD_STRENGTH if STRESS_11 else 0\n",
    "    stress_22 = MAXIMUM_STRESS_to_YIELD_STRENGTH * YIELD_STRENGTH if STRESS_22 else 0\n",
    "    stress_33 = MAXIMUM_STRESS_to_YIELD_STRENGTH * YIELD_STRENGTH if STRESS_33 else 0\n",
    "    \n",
    "    P = [[ stress_11, 'x' , 'x'],\n",
    "         [ 'x', stress_22 , 'x' ],\n",
    "         [ 'x', 'x' , stress_33 ]]\n",
    "\n",
    "    loadstep = {'boundary_conditions':{'mechanical':{'dot_F':inversion(P),\n",
    "                                                     'P':P}},\n",
    "                                       'discretization':{'t': t,'N': N},'f_out': f_out}\n",
    "    load_case['loadstep'].append(loadstep)\n",
    "    \n",
    "\n",
    "def ramp_down(t: float = 1., N: int = 20, f_out: int = 10):\n",
    "    \n",
    "    stress_11 = R_RATIO * MAXIMUM_STRESS_to_YIELD_STRENGTH * YIELD_STRENGTH if STRESS_11 else 0\n",
    "    stress_22 = R_RATIO * MAXIMUM_STRESS_to_YIELD_STRENGTH * YIELD_STRENGTH if STRESS_22 else 0\n",
    "    stress_33 = R_RATIO * MAXIMUM_STRESS_to_YIELD_STRENGTH * YIELD_STRENGTH if STRESS_33 else 0\n",
    "    \n",
    "    P = [[ stress_11, 'x' , 'x'],\n",
    "         [ 'x', stress_22 , 'x' ],\n",
    "         [ 'x', 'x' , stress_33 ]]\n",
    "    loadstep = {'boundary_conditions':{'mechanical':{'P':P,\n",
    "                                                     'dot_F':inversion(P)}},\n",
    "                                       'discretization':{'t': t,'N': N}, 'f_out': f_out}\n",
    "    load_case['loadstep'].append(loadstep)"
   ]
  },
  {
   "cell_type": "markdown",
   "id": "69e4b65c",
   "metadata": {},
   "source": [
    "### <font color=cadetblue> &emsp; &emsp; Creating Full Loadstep and Writing File </font>"
   ]
  },
  {
   "cell_type": "code",
   "execution_count": null,
   "id": "a6aab74e",
   "metadata": {},
   "outputs": [],
   "source": [
    "# Creating load case\n",
    "for _ in range(CYCLE_COUNT):\n",
    "    ramp_up(RAMP_UP_TIME, RAMP_UP_DISCRETIZATION, RAMP_UP_OUTPUT_FREQUENCY)\n",
    "    ramp_down(RAMP_DOWN_TIME, RAMP_DOWN_DISCRETIZATION, RAMP_DOWN_OUTPUT_FREQUENCY)\n",
    "\n",
    "# Saving Load file\n",
    "load_case.save(LOADFILE_NAME)"
   ]
  },
  {
   "cell_type": "code",
   "execution_count": null,
   "id": "bc2764ec",
   "metadata": {},
   "outputs": [],
   "source": []
  }
 ],
 "metadata": {
  "kernelspec": {
   "display_name": "Python 3",
   "language": "python",
   "name": "python3"
  },
  "language_info": {
   "codemirror_mode": {
    "name": "ipython",
    "version": 3
   },
   "file_extension": ".py",
   "mimetype": "text/x-python",
   "name": "python",
   "nbconvert_exporter": "python",
   "pygments_lexer": "ipython3",
   "version": "3.8.10"
  }
 },
 "nbformat": 4,
 "nbformat_minor": 5
}
