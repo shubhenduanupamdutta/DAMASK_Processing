{
 "cells": [
  {
   "cell_type": "markdown",
   "id": "247c5ac3",
   "metadata": {},
   "source": [
    "<img src=\"DAMASK_banner.png\">"
   ]
  },
  {
   "cell_type": "markdown",
   "id": "16dd7064",
   "metadata": {},
   "source": [
    "# <font color=blue> Importing Necessary Modules </font>"
   ]
  },
  {
   "cell_type": "code",
   "execution_count": null,
   "id": "ea9f44c7",
   "metadata": {},
   "outputs": [],
   "source": [
    "import numpy as np\n",
    "import damask\n",
    "from damask import ConfigMaterial as cm"
   ]
  },
  {
   "cell_type": "markdown",
   "id": "a721bf28",
   "metadata": {},
   "source": [
    "# <font color=blue> **SECTION - 01:** Cleaning .ang files </font>\n",
    "\n",
    "- ### <font color=blue>That is changing values outside the range of [0, 2π] to be inside</font>\n",
    "- ### <font color=scarlet> Assumes that euler angles in the ang file are in radians. </font>\n",
    "\n",
    "<font color=red>NOTE: This needs to be done, because .ang files as created may contain some values greater than [0, 2π], which while will be processed by DREAM3D, but during creation of material file, damask will raise error.</font>"
   ]
  },
  {
   "cell_type": "code",
   "execution_count": null,
   "id": "c141dac3",
   "metadata": {},
   "outputs": [],
   "source": [
    "GENERATED_ANG_FILE = \"YOUR_CREATED_ANG_FILE_FILEPATH\"\n",
    "# Obtained ang file path and filename, from tsl or ebsd or elsewhere\n",
    "CLEANED_ANG_FILE = \"YOUR_OUTPUT_FILE_FILEPATH\"\n",
    "# What you want cleaned ang files name to be and where you need it placed\n",
    "HEADER_LINES = \"HEADER_LINES_IN_ANG_FILE\"\n",
    "# Lines starting with # (i.e. before data of ebsd starts)"
   ]
  },
  {
   "cell_type": "markdown",
   "id": "f55ceb59",
   "metadata": {},
   "source": [
    "### <font color=grey>Creating few helper functions</font>"
   ]
  },
  {
   "cell_type": "code",
   "execution_count": null,
   "id": "34cc64c2",
   "metadata": {},
   "outputs": [],
   "source": [
    "def outside_range(euler_angle: str) -> bool:\n",
    "    \"\"\"Takes in euler angle value (as a string), outputs whether they are outside the accepted range of [0, 2pi],\n",
    "        Returns True if angle is outside the accepted range,\n",
    "        False otherwise.\"\"\"\n",
    "    angle_radians = float(euler_angle)\n",
    "    return not (0 <= angle_radians < 2 * np.pi)\n",
    "\n",
    "def convert_in_range(euler_angle: str) -> str:\n",
    "    \"\"\"Takes in euler angle (as a string), outputs a value by subtracting or adding 2pi values a i in range value.\"\"\"\n",
    "    angle_radians = float(euler_angle)\n",
    "    while outside_range(euler_angle):\n",
    "        if float(euler_angle) < 0:\n",
    "            euler_angle = f\"{angle_radians + 2 * np.pi:.5f}\"\n",
    "        else:\n",
    "            euler_angle = f\"{angle_radians - 2 * np.pi:.5f}\"\n",
    "    return euler_angle"
   ]
  },
  {
   "cell_type": "markdown",
   "id": "f8dc72f6",
   "metadata": {},
   "source": [
    "### <font color=red>Taking in data from GENERATE_ANG_FILE and cleaning it </font>"
   ]
  },
  {
   "cell_type": "code",
   "execution_count": null,
   "id": "7e8cc9dd",
   "metadata": {},
   "outputs": [],
   "source": [
    "header = []\n",
    "data_lines = []\n",
    "with open(GENERATED_ANG_FILE, \"r\") as file_read:\n",
    "    all_data_lines = file_read.readlines()\n",
    "    for header_lines in all_data_lines[:HEADER_LINES]:\n",
    "        # Taking in all header lines in the header list.\n",
    "        header.append(header_lines)\n",
    "        \n",
    "    for data_line in all_data_lines[HEADER_LINES:]:\n",
    "        # Going through all data_line, first convert data_line in a list\n",
    "        data_line = data_line.split()\n",
    "        for i in range(3):\n",
    "            if outside_range(data_line[i]):\n",
    "                # if euler angle is outside range\n",
    "                data_line[i] = convert_in_range(data_line[i])\n",
    "                # Convert to inside and add it to data_lines list\n",
    "        data_lines.append(data_line)"
   ]
  },
  {
   "cell_type": "markdown",
   "id": "3dee5d24",
   "metadata": {},
   "source": [
    "### <font color=green>Exporting clean data as CLEANED_ANG_FILE</font>"
   ]
  },
  {
   "cell_type": "code",
   "execution_count": null,
   "id": "7ed869d6",
   "metadata": {},
   "outputs": [],
   "source": [
    "# Exporting data \n",
    "with open(CLEANED_ANG_FILE, \"w\") as file_write:\n",
    "    for header_line in header:\n",
    "        file_write.write(header_line)\n",
    "    for datas in data_lines:\n",
    "        line = \"\"\n",
    "        for data in datas:\n",
    "            line += data\n",
    "            line += \"\\t\"\n",
    "        file_write.write(line + \"\\n\")"
   ]
  },
  {
   "cell_type": "markdown",
   "id": "67f0af0c",
   "metadata": {},
   "source": [
    "## <font color=blue>Converting CLEANED_ANG_FILE to dream3d file</font>"
   ]
  },
  {
   "cell_type": "markdown",
   "id": "4218fe89",
   "metadata": {},
   "source": [
    "### To convert .ang type files to dream3d file, you can use following DREAM3D pipeline\n",
    "- #### <a href=\"DREAM3D_Pipelines/AngTodream3d.json\">Pipeline to convert .ang file to dream3d file<a> <br>\n",
    "    This is placed in DREAM3D_Pipelines folder with filename, \"AngTodream3d.json\""
   ]
  },
  {
   "cell_type": "markdown",
   "id": "86b4625e",
   "metadata": {},
   "source": [
    "### <font color=red> Sometime DREAM3D may throw following error when using above pipeline</font>\n",
    "#### &emsp; &emsp;<font color=red>import EDAX EBSD data(.ang) </font> &emsp; &emsp; END of ang file reached before all data was parsed.\n",
    "### <font color=green> Solution: <br> &emsp; &emsp; In this case Go to NROWS line of the header, and decrease the count by 1, that should resolve the issue.</font>"
   ]
  },
  {
   "cell_type": "markdown",
   "id": "66ec9339",
   "metadata": {},
   "source": [
    "# <font color=blue>SECTION - 01_2 : Converting ctf files to dream3d files</font>"
   ]
  },
  {
   "cell_type": "markdown",
   "id": "679926cc",
   "metadata": {},
   "source": [
    "### Converting to dream3d file is quite easy, cleaning and others are not required, the pipeline to use is:\n",
    "- #### <a href=\"DREAM3D_Pipelines/ctf_to_dream3d.json\">Pipeline to convert .ctf file to .dream3d file</a> <br>\n",
    "This is placed in DREAM3D_Pieplines folder with filename \"ctf_to_dream3d.json\""
   ]
  },
  {
   "cell_type": "code",
   "execution_count": null,
   "id": "72878fb2",
   "metadata": {},
   "outputs": [],
   "source": []
  }
 ],
 "metadata": {
  "kernelspec": {
   "display_name": "Python 3",
   "language": "python",
   "name": "python3"
  },
  "language_info": {
   "codemirror_mode": {
    "name": "ipython",
    "version": 3
   },
   "file_extension": ".py",
   "mimetype": "text/x-python",
   "name": "python",
   "nbconvert_exporter": "python",
   "pygments_lexer": "ipython3",
   "version": "3.8.10"
  }
 },
 "nbformat": 4,
 "nbformat_minor": 5
}
