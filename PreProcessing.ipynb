{
 "cells": [
  {
   "cell_type": "markdown",
   "id": "6b80cbef",
   "metadata": {},
   "source": [
    "<img src=\"DAMASK_banner.png\">"
   ]
  },
  {
   "cell_type": "markdown",
   "id": "fbe1f0a8",
   "metadata": {},
   "source": [
    "# <font color=blue> Importing Necessary Modules </font>"
   ]
  },
  {
   "cell_type": "code",
   "execution_count": null,
   "id": "97c59a0c",
   "metadata": {},
   "outputs": [],
   "source": [
    "import numpy as np\n",
    "import damask\n",
    "from damask import ConfigMaterial as cm"
   ]
  },
  {
   "cell_type": "markdown",
   "id": "1197f14e",
   "metadata": {},
   "source": [
    "# <font color=blue> **SECTION - 01:** Cleaning .ang files </font>\n",
    "\n",
    "- ### <font color=blue>That is changing values outside the range of [0, 2π] to be inside</font>\n",
    "- ### <font color=scarlet> Assumes that euler angles in the ang file are in radians. </font>\n",
    "\n",
    "<font color=red>NOTE: This needs to be done, because .ang files as created may contain some values greater than [0, 2π], which while will be processed by DREAM3D, but during creation of material file, damask will raise error.</font>"
   ]
  },
  {
   "cell_type": "code",
   "execution_count": null,
   "id": "aa293211",
   "metadata": {},
   "outputs": [],
   "source": [
    "GENERATED_ANG_FILE = \"YOUR_CREATED_ANG_FILE_FILEPATH\"\n",
    "# Obtained ang file path and filename, from tsl or ebsd or elsewhere\n",
    "CLEANED_ANG_FILE = \"YOUR_OUTPUT_FILE_FILEPATH\"\n",
    "# What you want cleaned ang files name to be and where you need it placed\n",
    "HEADER_LINES = \"HEADER_LINES_IN_ANG_FILE\"\n",
    "# Lines starting with # (i.e. before data of ebsd starts)"
   ]
  },
  {
   "cell_type": "markdown",
   "id": "6f530eca",
   "metadata": {},
   "source": [
    "### <font color=grey>Creating few helper functions</font>"
   ]
  },
  {
   "cell_type": "code",
   "execution_count": null,
   "id": "dfff3da3",
   "metadata": {},
   "outputs": [],
   "source": [
    "def outside_range(euler_angle: str) -> bool:\n",
    "    \"\"\"Takes in euler angle value (as a string), outputs whether they are outside the accepted range of [0, 2pi],\n",
    "        Returns True if angle is outside the accepted range,\n",
    "        False otherwise.\"\"\"\n",
    "    angle_radians = float(euler_angle)\n",
    "    return not (0 <= angle_radians < 2 * np.pi)\n",
    "\n",
    "def convert_in_range(euler_angle: str) -> str:\n",
    "    \"\"\"Takes in euler angle (as a string), outputs a value by subtracting or adding 2pi values a i in range value.\"\"\"\n",
    "    angle_radians = float(euler_angle)\n",
    "    while outside_range(euler_angle):\n",
    "        if float(euler_angle) < 0:\n",
    "            euler_angle = f\"{angle_radians + 2 * np.pi:.5f}\"\n",
    "        else:\n",
    "            euler_angle = f\"{angle_radians - 2 * np.pi:.5f}\"\n",
    "    return euler_angle"
   ]
  },
  {
   "cell_type": "markdown",
   "id": "46322cd1",
   "metadata": {},
   "source": [
    "### <font color=red>Taking in data from GENERATE_ANG_FILE and cleaning it </font>"
   ]
  },
  {
   "cell_type": "code",
   "execution_count": 1,
   "id": "49f74fa4",
   "metadata": {},
   "outputs": [
    {
     "ename": "NameError",
     "evalue": "name 'GENERATED_ANG_FILE' is not defined",
     "output_type": "error",
     "traceback": [
      "\u001b[0;31m---------------------------------------------------------------------------\u001b[0m",
      "\u001b[0;31mNameError\u001b[0m                                 Traceback (most recent call last)",
      "\u001b[0;32m<ipython-input-1-c62345f0c292>\u001b[0m in \u001b[0;36m<module>\u001b[0;34m\u001b[0m\n\u001b[1;32m      1\u001b[0m \u001b[0mheader\u001b[0m \u001b[0;34m=\u001b[0m \u001b[0;34m[\u001b[0m\u001b[0;34m]\u001b[0m\u001b[0;34m\u001b[0m\u001b[0;34m\u001b[0m\u001b[0m\n\u001b[1;32m      2\u001b[0m \u001b[0mdata_lines\u001b[0m \u001b[0;34m=\u001b[0m \u001b[0;34m[\u001b[0m\u001b[0;34m]\u001b[0m\u001b[0;34m\u001b[0m\u001b[0;34m\u001b[0m\u001b[0m\n\u001b[0;32m----> 3\u001b[0;31m \u001b[0;32mwith\u001b[0m \u001b[0mopen\u001b[0m\u001b[0;34m(\u001b[0m\u001b[0mGENERATED_ANG_FILE\u001b[0m\u001b[0;34m,\u001b[0m \u001b[0;34m\"r\"\u001b[0m\u001b[0;34m)\u001b[0m \u001b[0;32mas\u001b[0m \u001b[0mfile_read\u001b[0m\u001b[0;34m:\u001b[0m\u001b[0;34m\u001b[0m\u001b[0;34m\u001b[0m\u001b[0m\n\u001b[0m\u001b[1;32m      4\u001b[0m     \u001b[0mall_data_lines\u001b[0m \u001b[0;34m=\u001b[0m \u001b[0mfile_read\u001b[0m\u001b[0;34m.\u001b[0m\u001b[0mreadlines\u001b[0m\u001b[0;34m(\u001b[0m\u001b[0;34m)\u001b[0m\u001b[0;34m\u001b[0m\u001b[0;34m\u001b[0m\u001b[0m\n\u001b[1;32m      5\u001b[0m     \u001b[0;32mfor\u001b[0m \u001b[0mheader_lines\u001b[0m \u001b[0;32min\u001b[0m \u001b[0mall_data_lines\u001b[0m\u001b[0;34m[\u001b[0m\u001b[0;34m:\u001b[0m\u001b[0mHEADER_LINES\u001b[0m\u001b[0;34m]\u001b[0m\u001b[0;34m:\u001b[0m\u001b[0;34m\u001b[0m\u001b[0;34m\u001b[0m\u001b[0m\n",
      "\u001b[0;31mNameError\u001b[0m: name 'GENERATED_ANG_FILE' is not defined"
     ]
    }
   ],
   "source": [
    "header = []\n",
    "data_lines = []\n",
    "with open(GENERATED_ANG_FILE, \"r\") as file_read:\n",
    "    all_data_lines = file_read.readlines()\n",
    "    for header_lines in all_data_lines[:HEADER_LINES]:\n",
    "        # Taking in all header lines in the header list.\n",
    "        header.append(header_lines)\n",
    "        \n",
    "    for data_line in all_data_lines[HEADER_LINES:]:\n",
    "        # Going through all data_line, first convert data_line in a list\n",
    "        data_line = data_line.split()\n",
    "        for i in range(3):\n",
    "            if outside_range(data_line[i]):\n",
    "                # if euler angle is outside range\n",
    "                data_line[i] = convert_in_range(data_line[i])\n",
    "                # Convert to inside and add it to data_lines list\n",
    "        data_lines.append(data_line)"
   ]
  },
  {
   "cell_type": "markdown",
   "id": "dd9d03aa",
   "metadata": {},
   "source": [
    "### <font color=green>Exporting clean data as CLEANED_ANG_FILE</font>"
   ]
  },
  {
   "cell_type": "code",
   "execution_count": null,
   "id": "d6e6e464",
   "metadata": {},
   "outputs": [],
   "source": [
    "# Exporting data \n",
    "with open(CLEANED_ANG_FILE, \"w\") as file_write:\n",
    "    for header_line in header:\n",
    "        file_write.write(header_line)\n",
    "    for datas in data_lines:\n",
    "        line = \"\"\n",
    "        for data in datas:\n",
    "            line += data\n",
    "            line += \"\\t\"\n",
    "        file_write.write(line + \"\\n\")"
   ]
  },
  {
   "cell_type": "code",
   "execution_count": null,
   "id": "5acdd5d1",
   "metadata": {},
   "outputs": [],
   "source": []
  }
 ],
 "metadata": {
  "kernelspec": {
   "display_name": "Python 3",
   "language": "python",
   "name": "python3"
  },
  "language_info": {
   "codemirror_mode": {
    "name": "ipython",
    "version": 3
   },
   "file_extension": ".py",
   "mimetype": "text/x-python",
   "name": "python",
   "nbconvert_exporter": "python",
   "pygments_lexer": "ipython3",
   "version": "3.8.10"
  }
 },
 "nbformat": 4,
 "nbformat_minor": 5
}
