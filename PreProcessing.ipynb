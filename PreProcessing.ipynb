{
 "cells": [
  {
   "cell_type": "markdown",
   "id": "e6569393",
   "metadata": {},
   "source": [
    "<img src=\"DAMASK_banner.png\">"
   ]
  },
  {
   "cell_type": "markdown",
   "id": "1eba35e0",
   "metadata": {},
   "source": [
    "# <font color=blue> Importing Necessary Modules </font>"
   ]
  },
  {
   "cell_type": "code",
   "execution_count": null,
   "id": "ed011e86",
   "metadata": {},
   "outputs": [],
   "source": [
    "import numpy as np\n",
    "import damask\n",
    "from damask import ConfigMaterial as cm"
   ]
  },
  {
   "cell_type": "markdown",
   "id": "bce5b49f",
   "metadata": {},
   "source": [
    "***\n",
    "<br><br>\n",
    "# <center><font color=blue> **SECTION - 01:** Cleaning .ang files </font><center>\n",
    "\n",
    "- ### <font color=blue>That is changing values outside the range of [0, 2π] to be inside</font>\n",
    "- ### <font color=scarlet> Assumes that euler angles in the ang file are in radians. </font>\n",
    "\n",
    "<font color=red>NOTE: This needs to be done, because .ang files as created may contain some values greater than [0, 2π], which while will be processed by DREAM3D, but during creation of material file, damask will raise error.</font>"
   ]
  },
  {
   "cell_type": "code",
   "execution_count": null,
   "id": "fd3fdec7",
   "metadata": {},
   "outputs": [],
   "source": [
    "GENERATED_ANG_FILE = \"YOUR_CREATED_ANG_FILE_FILEPATH\"\n",
    "# Obtained ang file path and filename, from tsl or ebsd or elsewhere\n",
    "CLEANED_ANG_FILE = \"YOUR_OUTPUT_FILE_FILEPATH\"\n",
    "# What you want cleaned ang files name to be and where you need it placed\n",
    "HEADER_LINES = \"HEADER_LINES_IN_ANG_FILE\"\n",
    "# Lines starting with # (i.e. before data of ebsd starts)"
   ]
  },
  {
   "cell_type": "markdown",
   "id": "aa3577d3",
   "metadata": {},
   "source": [
    "### <font color=grey>Creating few helper functions</font>"
   ]
  },
  {
   "cell_type": "code",
   "execution_count": null,
   "id": "4fb1afb7",
   "metadata": {},
   "outputs": [],
   "source": [
    "def outside_range(euler_angle: str, range_min: float = 0, range_max: float = 2 * np.pi) -> bool:\n",
    "    \"\"\"Takes in euler angle value (as a string), outputs whether they are outside the accepted range of [0, 2pi],\n",
    "        Returns True if angle is outside the accepted range,\n",
    "        False otherwise.\"\"\"\n",
    "    angle_radians = float(euler_angle)\n",
    "    return not (range_min <= angle_radians < range_max)\n",
    "\n",
    "def convert_in_range(euler_angle: str, range_min: float = 0, range_max: float = 2 * np.pi) -> str:\n",
    "    \"\"\"Takes in euler angle (as a string), outputs a value by subtracting or adding 2pi values a i in range value.\"\"\"\n",
    "    while outside_range(euler_angle, range_min, range_max):\n",
    "        angle_radians = float(euler_angle)\n",
    "        if float(euler_angle) < range_min:\n",
    "            euler_angle = f\"{angle_radians + range_max:.5f}\"\n",
    "        else:\n",
    "            euler_angle = f\"{angle_radians - range_max:.5f}\"\n",
    "    return euler_angle"
   ]
  },
  {
   "cell_type": "markdown",
   "id": "ac73072e",
   "metadata": {},
   "source": [
    "### <font color=red>Taking in data from GENERATE_ANG_FILE and cleaning it </font>"
   ]
  },
  {
   "cell_type": "code",
   "execution_count": null,
   "id": "2d5b447e",
   "metadata": {},
   "outputs": [],
   "source": [
    "header = []\n",
    "data_lines = []\n",
    "with open(GENERATED_ANG_FILE, \"r\") as file_read:\n",
    "    all_data_lines = file_read.readlines()\n",
    "    for header_lines in all_data_lines[:HEADER_LINES]:\n",
    "        # Taking in all header lines in the header list.\n",
    "        header.append(header_lines)\n",
    "        \n",
    "    for data_line in all_data_lines[HEADER_LINES:]:\n",
    "        # Going through all data_line, first convert data_line in a list\n",
    "        data_line = data_line.split()\n",
    "        data_line[0] = convert_in_range(data_line[0])\n",
    "        data_line[1] = convert_in_range(data_line[1], 0, np.pi)\n",
    "        data_line[2] = convert_in_range(data_line[2])\n",
    "        data_lines.append(data_line)"
   ]
  },
  {
   "cell_type": "markdown",
   "id": "6c5d54f9",
   "metadata": {},
   "source": [
    "### <font color=green>Exporting clean data as CLEANED_ANG_FILE</font>"
   ]
  },
  {
   "cell_type": "code",
   "execution_count": null,
   "id": "478575c9",
   "metadata": {},
   "outputs": [],
   "source": [
    "# Exporting data \n",
    "with open(CLEANED_ANG_FILE, \"w\") as file_write:\n",
    "    for header_line in header:\n",
    "        file_write.write(header_line)\n",
    "    for datas in data_lines:\n",
    "        line = \"\"\n",
    "        for data in datas:\n",
    "            line += data\n",
    "            line += \"\\t\"\n",
    "        file_write.write(line + \"\\n\")"
   ]
  },
  {
   "cell_type": "markdown",
   "id": "398483fc",
   "metadata": {},
   "source": [
    "## <font color=blue>Converting CLEANED_ANG_FILE to dream3d file</font>"
   ]
  },
  {
   "cell_type": "markdown",
   "id": "67a4cd92",
   "metadata": {},
   "source": [
    "### To convert .ang type files to dream3d file, you can use following DREAM3D pipeline\n",
    "- #### <a href=\"DREAM3D_Pipelines/AngTodream3d.json\">Pipeline to convert .ang file to dream3d file<a> <br>\n",
    "    This is placed in DREAM3D_Pipelines folder with filename, \"AngTodream3d.json\""
   ]
  },
  {
   "cell_type": "markdown",
   "id": "f6753d47",
   "metadata": {},
   "source": [
    "### <font color=red> Sometime DREAM3D may throw following error when using above pipeline</font>\n",
    "#### &emsp; &emsp;<font color=red>import EDAX EBSD data(.ang) </font> &emsp; &emsp; END of ang file reached before all data was parsed.\n",
    "### <font color=green> Solution: <br> &emsp; &emsp; In this case Go to NROWS line of the header, and decrease the count by 1, that should resolve the issue.</font>"
   ]
  },
  {
   "cell_type": "markdown",
   "id": "dd31621e",
   "metadata": {},
   "source": [
    "# <font color=blue>SECTION - 01_2 : Converting ctf files to dream3d files</font>"
   ]
  },
  {
   "cell_type": "markdown",
   "id": "0dfc560f",
   "metadata": {},
   "source": [
    "### Converting to dream3d file is quite easy, cleaning and others are not required, the pipeline to use is:\n",
    "- #### <a href=\"DREAM3D_Pipelines/ctf_to_dream3d.json\">Pipeline to convert .ctf file to .dream3d file</a> <br>\n",
    "This is placed in DREAM3D_Pieplines folder with filename \"ctf_to_dream3d.json\""
   ]
  },
  {
   "cell_type": "markdown",
   "id": "9eeef2e1",
   "metadata": {},
   "source": [
    "***\n",
    "# <font color=scarlet><center>SECTION - 01 : END </center></font>\n",
    "***"
   ]
  },
  {
   "cell_type": "markdown",
   "id": "815594a3",
   "metadata": {},
   "source": [
    "<br> <br> <br>\n",
    "\n",
    "# <font color=blue><center> SECTION-02: Generating material.yaml from dream3d file </center></font> <br>\n",
    "- ### <font color=blue>Creating a material.yaml file using dream3d file and available material data, (collected from literature or caluclated)</font>\n",
    "#### <font color=red>**NOTE**: material.yaml file contains material orientation and properties and a must for damask simulation"
   ]
  },
  {
   "cell_type": "markdown",
   "id": "278d189f",
   "metadata": {},
   "source": [
    "## <center><font color=purple> SECTION-02.1 Creating material file for single phase material </font><center>"
   ]
  },
  {
   "cell_type": "code",
   "execution_count": null,
   "id": "c30d06b3",
   "metadata": {},
   "outputs": [],
   "source": [
    "DREAM_3D_FILE = \"YOUR_DREAM3D_FILEPATH\"\n",
    "# Path to dream3d file created from methods mentioned above\n",
    "MATERIAL_CONTANTS_FILE = \"MATERIAL_CONSTANTS_FILENAME\"\n",
    "# yaml file where you have saved material data needed for simulation, examples in damask GitHub pages"
   ]
  },
  {
   "cell_type": "code",
   "execution_count": null,
   "id": "82241023",
   "metadata": {},
   "outputs": [],
   "source": [
    "# creating a config_material object from dream 3d file\n",
    "config_material = cm.load_DREAM3D(DREAM_3D_FILE)\n",
    "\n",
    "# Defining homogenization as type pass, if you are using ebsd data from SEM it should be type pass only\n",
    "config_material['homogenization']['direct']['mechanical'] = {'type': 'pass'}"
   ]
  },
  {
   "cell_type": "markdown",
   "id": "682fc2d3",
   "metadata": {},
   "source": [
    "<br>\n",
    "\n",
    "## <font color=grey><center> OPTIONAL PROCESSING - START </center></font>\n",
    "### Optional Processings, Following cells are not necessary, they are optional\n",
    "- #### Change phase name\n",
    "- #### [CLICK HERE](#singlephase_rename) to go to the cell to customize name changes"
   ]
  },
  {
   "cell_type": "code",
   "execution_count": null,
   "id": "aa4ecfa3",
   "metadata": {},
   "outputs": [],
   "source": [
    "# Looking through the config_material object for phase names\n",
    "config_material"
   ]
  },
  {
   "cell_type": "markdown",
   "id": "c8f9cf84",
   "metadata": {},
   "source": [
    "<a id=\"singlephase_rename\"></a>\n",
    "### <font color=red><center> Change following cell to customize renaming of phase. </center></font>"
   ]
  },
  {
   "cell_type": "code",
   "execution_count": null,
   "id": "6a22c658",
   "metadata": {},
   "outputs": [],
   "source": [
    "OLD_PHASE_NAME: str = \"OLD_PHASE_NAME_IN_ConfigMaterial_OBJECT\"\n",
    "NEW_PHASE_NAME: str = \"WHAT_YOU_WANT_NEW_NAME_TO_BE\""
   ]
  },
  {
   "cell_type": "code",
   "execution_count": null,
   "id": "5b03c8e8",
   "metadata": {},
   "outputs": [],
   "source": [
    "# Deleting old phase in phase section\n",
    "del (config_material['phase'][OLD_PHASE_NAME])\n",
    "# Adding new phase in phase section\n",
    "config_material['phase'][NEW_PHASE_NAME] = None\n",
    "\n",
    "# Renaming phase in material section\n",
    "if isinstance(config_material['material'][0]['constituents'][0]['phase'], int):\n",
    "    config_material = config_material.material_rename_phase({int(OLD_PHASE_NAME): NEW_PHASE_NAME})\n",
    "else:\n",
    "    config_material = config_material.material_rename_phase({OLD_PHASE_NAME: NEW_PHASE_NAME})"
   ]
  },
  {
   "cell_type": "markdown",
   "id": "d9654d58",
   "metadata": {},
   "source": [
    "\n",
    "## <font color=grey><center> OPTIONAL PROCESSING - END </center></font>\n",
    "<br>"
   ]
  },
  {
   "cell_type": "markdown",
   "id": "b9e7315c",
   "metadata": {},
   "source": [
    "### <font color=cadetblue><center> **Adding Material Constants, elastic and plastic to ConfigMaterial Object** </center></font>"
   ]
  },
  {
   "cell_type": "code",
   "execution_count": null,
   "id": "9f8ae51d",
   "metadata": {},
   "outputs": [],
   "source": [
    "phase_name = list(config_material['phase'].keys())[0]\n",
    "config_material['phase'][phase_name] = damask.ConfigMaterial.load(MATERIAL_CONTANTS_FILE)"
   ]
  },
  {
   "cell_type": "markdown",
   "id": "6f7ac677",
   "metadata": {},
   "source": [
    "## <font color=cadetblue><center> Saving ConfigMaterial Object (Will be saved as <font color=red>_material.yaml_ </font>)</center></font>"
   ]
  },
  {
   "cell_type": "code",
   "execution_count": null,
   "id": "84a73c19",
   "metadata": {},
   "outputs": [],
   "source": [
    "config_material.save()"
   ]
  },
  {
   "cell_type": "markdown",
   "id": "c19b677c",
   "metadata": {},
   "source": [
    "## <center><font color=purple> SECTION-02.1 - END </font></center>\n",
    "<hr>"
   ]
  },
  {
   "cell_type": "markdown",
   "id": "d7255dc9",
   "metadata": {},
   "source": [
    "<hr>\n",
    "\n",
    "# <font color=blue><center> SECTION-02: END </center></font>\n",
    "<hr>\n",
    "<br><br>"
   ]
  },
  {
   "cell_type": "markdown",
   "id": "a234242b",
   "metadata": {},
   "source": [
    "<br> <br>\n",
    "\n",
    "# <font color=blue><center> SECTION-03: Generating grid file from .dream3d file </center></font>\n",
    "#### <font color=red> &emsp; **NOTE**: grid file is a must for DAMASK_simulation, in simple words it contains placement of voxels (data points) in x,y,z coordinates "
   ]
  },
  {
   "cell_type": "markdown",
   "id": "e6680378",
   "metadata": {},
   "source": [
    "## <font color=cadetblue> <center>Customize name of the grid file <center></font>\n",
    "- #### <font color=red> &emsp; &emsp; One of two names which will determine result file name.</font>\n",
    "- #### <font color=red> &emsp; &emsp; Extension of grid file must be .vti </font>"
   ]
  },
  {
   "cell_type": "code",
   "execution_count": null,
   "id": "921cb036",
   "metadata": {},
   "outputs": [],
   "source": [
    "OUTPUT_GRID_FILE = \"IMI817_34um.vti\"\n",
    "DREAM_3D_FILE = \"IMI817_34um.dream3d\""
   ]
  },
  {
   "cell_type": "code",
   "execution_count": null,
   "id": "05a87e28",
   "metadata": {},
   "outputs": [],
   "source": [
    "grid_file = damask.Grid.load_DREAM3D(DREAM_3D_FILE)\n",
    "grid_file.save(OUTPUT_GRID_FILE)"
   ]
  },
  {
   "cell_type": "markdown",
   "id": "c6e8fbce",
   "metadata": {},
   "source": [
    "***\n",
    "# <font color=blue><center> SECTION-03: END </center></font>\n",
    "***\n",
    "<br>\n",
    "<br>"
   ]
  },
  {
   "cell_type": "code",
   "execution_count": null,
   "id": "5ab509b0",
   "metadata": {},
   "outputs": [],
   "source": []
  }
 ],
 "metadata": {
  "kernelspec": {
   "display_name": "Python 3",
   "language": "python",
   "name": "python3"
  },
  "language_info": {
   "codemirror_mode": {
    "name": "ipython",
    "version": 3
   },
   "file_extension": ".py",
   "mimetype": "text/x-python",
   "name": "python",
   "nbconvert_exporter": "python",
   "pygments_lexer": "ipython3",
   "version": "3.8.10"
  }
 },
 "nbformat": 4,
 "nbformat_minor": 5
}
